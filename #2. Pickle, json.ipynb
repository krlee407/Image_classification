{
 "cells": [
  {
   "cell_type": "code",
   "execution_count": 19,
   "metadata": {
    "collapsed": true,
    "deletable": true,
    "editable": true
   },
   "outputs": [],
   "source": [
    "from PIL import Image, ImageFilter\n",
    "from matplotlib.pyplot import imshow\n",
    "import numpy as np\n",
    "import pickle\n",
    "import os"
   ]
  },
  {
   "cell_type": "code",
   "execution_count": 20,
   "metadata": {
    "collapsed": false,
    "deletable": true,
    "editable": true
   },
   "outputs": [],
   "source": [
    "label_dic = {\n",
    "    'nonpoisonous' : 0,\n",
    "    'poisonous' : 1\n",
    "}"
   ]
  },
  {
   "cell_type": "code",
   "execution_count": 21,
   "metadata": {
    "collapsed": false,
    "deletable": true,
    "editable": true
   },
   "outputs": [],
   "source": [
    "image_set = {}\n",
    "resizing = (32, 32)\n",
    "\n",
    "for label in label_dic:\n",
    "    image_dir = os.getcwd() + '/image/' + label\n",
    "    labeled_image = []\n",
    "\n",
    "    for path, dir, files in os.walk(image_dir):\n",
    "        for file in files:\n",
    "            if '.DS_Store' in file:\n",
    "                continue\n",
    "            image_dir = path + '/' + file\n",
    "            img = Image.open(image_dir)\n",
    "            img = img.resize(resizing)\n",
    "            if not img.format == \"RGB\": # 이미지의 포맷이 RGB가 아닐 경우, RGB로 convert 시킴\n",
    "                img = img.convert(\"RGB\")\n",
    "            labeled_image.append(np.array(img))\n",
    "    \n",
    "    image_set[label] = np.array(labeled_image)"
   ]
  },
  {
   "cell_type": "code",
   "execution_count": 25,
   "metadata": {
    "collapsed": false,
    "deletable": true,
    "editable": true
   },
   "outputs": [],
   "source": [
    "train_class_size = 1000\n",
    "test_class_size = 100\n",
    "\n",
    "data_set = {\n",
    "    'train_image' : np.empty((1,resizing[0],resizing[1],3)),\n",
    "    'train_label' : np.empty(1),\n",
    "    'test_image' : np.empty((1,resizing[0],resizing[1],3)),\n",
    "    'test_label' : np.empty(1)\n",
    "}\n",
    "\n",
    "for label in image_set:\n",
    "    label_index = np.random.randint(len(image_set[label]), size=train_class_size + test_class_size)\n",
    "    \n",
    "    train_image = image_set[label][label_index[:train_class_size]]\n",
    "    test_image = image_set[label][label_index[train_class_size:]]\n",
    "    train_label = np.repeat(label_dic[label], train_class_size)\n",
    "    test_label = np.repeat(label_dic[label], test_class_size)\n",
    "    \n",
    "    data_set['train_image'] = np.concatenate((data_set['train_image'], train_image), axis = 0)\n",
    "    data_set['test_image'] = np.concatenate((data_set['test_image'], test_image), axis = 0)\n",
    "    data_set['train_label'] = np.concatenate((data_set['train_label'], train_label), axis = 0)\n",
    "    data_set['test_label'] = np.concatenate((data_set['test_label'], test_label), axis = 0)\n",
    "\n",
    "data_set['train_image'] = data_set['train_image'][1:]\n",
    "data_set['train_label'] = data_set['train_label'][1:]\n",
    "data_set['test_image'] = data_set['test_image'][1:]\n",
    "data_set['test_label'] = data_set['test_label'][1:]"
   ]
  },
  {
   "cell_type": "code",
   "execution_count": 26,
   "metadata": {
    "collapsed": false,
    "deletable": true,
    "editable": true
   },
   "outputs": [
    {
     "name": "stdout",
     "output_type": "stream",
     "text": [
      "(200, 32, 32, 3)\n"
     ]
    }
   ],
   "source": [
    "print(data_set['test_image'].shape)"
   ]
  },
  {
   "cell_type": "code",
   "execution_count": 27,
   "metadata": {
    "collapsed": false,
    "deletable": true,
    "editable": true
   },
   "outputs": [
    {
     "data": {
      "text/plain": [
       "<matplotlib.image.AxesImage at 0x10f576be0>"
      ]
     },
     "execution_count": 27,
     "metadata": {},
     "output_type": "execute_result"
    },
    {
     "data": {
      "image/png": "[encoded data removed]",
      "text/plain": [
       "<matplotlib.figure.Figure at 0x10eb63470>"
      ]
     },
     "metadata": {},
     "output_type": "display_data"
    }
   ],
   "source": [
    "img = Image.fromarray(data_set['train_image'][1001], 'RGB')\n",
    "%matplotlib inline\n",
    "imshow(data_set['train_image'][1001]/255)"
   ]
  },
  {
   "cell_type": "code",
   "execution_count": 28,
   "metadata": {
    "collapsed": false,
    "deletable": true,
    "editable": true
   },
   "outputs": [
    {
     "data": {
      "text/plain": [
       "<matplotlib.image.AxesImage at 0x10f5cecf8>"
      ]
     },
     "execution_count": 28,
     "metadata": {},
     "output_type": "execute_result"
    },
    {
     "data": {
      "image/png": "[encoded data removed]",
      "text/plain": [
       "<matplotlib.figure.Figure at 0x10effe7f0>"
      ]
     },
     "metadata": {},
     "output_type": "display_data"
    }
   ],
   "source": [
    "imshow(train_image[1]/255)"
   ]
  },
  {
   "cell_type": "code",
   "execution_count": 29,
   "metadata": {
    "collapsed": true,
    "deletable": true,
    "editable": true
   },
   "outputs": [],
   "source": [
    "pickle.dump(data_set, open(\"mushroom.p\", \"wb\"))"
   ]
  },
  {
   "cell_type": "code",
   "execution_count": 14,
   "metadata": {
    "collapsed": true,
    "deletable": true,
    "editable": true
   },
   "outputs": [],
   "source": [
    "import json"
   ]
  },
  {
   "cell_type": "code",
   "execution_count": 15,
   "metadata": {
    "collapsed": false,
    "deletable": true,
    "editable": true
   },
   "outputs": [],
   "source": [
    "parameter_set = {\n",
    "    'label_dic' : {\n",
    "    'nonpoisonous' : 0,\n",
    "    'poisonous' : 1\n",
    "    },\n",
    "    'resizing' : [64,64],\n",
    "    'train_class_size' : 1000,\n",
    "    'test_class_size' : 100\n",
    "}"
   ]
  },
  {
   "cell_type": "code",
   "execution_count": 16,
   "metadata": {
    "collapsed": false,
    "deletable": true,
    "editable": true
   },
   "outputs": [
    {
     "data": {
      "text/plain": [
       "[64, 64]"
      ]
     },
     "execution_count": 16,
     "metadata": {},
     "output_type": "execute_result"
    }
   ],
   "source": [
    "parameter_set['resizing']"
   ]
  },
  {
   "cell_type": "code",
   "execution_count": 17,
   "metadata": {
    "collapsed": false,
    "deletable": true,
    "editable": true
   },
   "outputs": [],
   "source": [
    "p = json.dumps(parameter_set, indent = 4)"
   ]
  },
  {
   "cell_type": "code",
   "execution_count": 18,
   "metadata": {
    "collapsed": false,
    "deletable": true,
    "editable": true
   },
   "outputs": [],
   "source": [
    "with open('test.json', 'w') as f:\n",
    "    f.write(p)"
   ]
  }
 ],
 "metadata": {
  "kernelspec": {
   "display_name": "Python 3",
   "language": "python",
   "name": "python3"
  },
  "language_info": {
   "codemirror_mode": {
    "name": "ipython",
    "version": 3
   },
   "file_extension": ".py",
   "mimetype": "text/x-python",
   "name": "python",
   "nbconvert_exporter": "python",
   "pygments_lexer": "ipython3",
   "version": "3.6.1"
  }
 },
 "nbformat": 4,
 "nbformat_minor": 2
}
