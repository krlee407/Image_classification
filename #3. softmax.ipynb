{
 "cells": [
  {
   "cell_type": "code",
   "execution_count": 1,
   "metadata": {
    "collapsed": false,
    "deletable": true,
    "editable": true
   },
   "outputs": [],
   "source": [
    "from PIL import Image\n",
    "import matplotlib.pyplot as plt\n",
    "import numpy as np\n",
    "import pickle\n",
    "import json"
   ]
  },
  {
   "cell_type": "code",
   "execution_count": 2,
   "metadata": {
    "collapsed": false,
    "deletable": true,
    "editable": true
   },
   "outputs": [],
   "source": [
    "data_set = pickle.load(open('mushroom.p', 'rb'))\n",
    "para = json.loads(open('para.json', 'r').read())"
   ]
  },
  {
   "cell_type": "code",
   "execution_count": 3,
   "metadata": {
    "collapsed": false,
    "deletable": true,
    "editable": true
   },
   "outputs": [
    {
     "data": {
      "text/plain": [
       "<matplotlib.image.AxesImage at 0x11d3b4cc0>"
      ]
     },
     "execution_count": 3,
     "metadata": {},
     "output_type": "execute_result"
    },
    {
     "data": {
      "image/png": "[encoded data removed]",
      "text/plain": [
       "<matplotlib.figure.Figure at 0x11130c1d0>"
      ]
     },
     "metadata": {},
     "output_type": "display_data"
    }
   ],
   "source": [
    "%matplotlib inline\n",
    "plt.imshow(data_set['train_image'][1001]/255)"
   ]
  },
  {
   "cell_type": "code",
   "execution_count": 4,
   "metadata": {
    "collapsed": false,
    "deletable": true,
    "editable": true
   },
   "outputs": [
    {
     "name": "stdout",
     "output_type": "stream",
     "text": [
      "Step:     0\tLoss: 1534.814\ttrain_acc: 54.35%\ttest_acc: 51.50%\n",
      "Step:   300\tLoss: 1293.321\ttrain_acc: 55.60%\ttest_acc: 50.50%\n",
      "Step:   600\tLoss: 1211.668\ttrain_acc: 56.00%\ttest_acc: 51.50%\n",
      "Step:   900\tLoss: 1147.760\ttrain_acc: 56.90%\ttest_acc: 50.50%\n",
      "Step:  1200\tLoss: 1093.245\ttrain_acc: 57.50%\ttest_acc: 50.00%\n",
      "Step:  1500\tLoss: 1046.297\ttrain_acc: 58.40%\ttest_acc: 49.50%\n",
      "Step:  1800\tLoss: 1007.279\ttrain_acc: 59.05%\ttest_acc: 49.00%\n",
      "Step:  2100\tLoss: 974.281\ttrain_acc: 59.20%\ttest_acc: 48.50%\n",
      "Step:  2400\tLoss: 945.016\ttrain_acc: 59.90%\ttest_acc: 49.00%\n",
      "Step:  2700\tLoss: 918.041\ttrain_acc: 59.95%\ttest_acc: 49.50%\n",
      "Step:  3000\tLoss: 893.164\ttrain_acc: 60.05%\ttest_acc: 50.00%\n",
      "Step:  3300\tLoss: 870.083\ttrain_acc: 60.55%\ttest_acc: 48.50%\n",
      "Step:  3600\tLoss: 847.970\ttrain_acc: 61.25%\ttest_acc: 49.00%\n",
      "Step:  3900\tLoss: 826.974\ttrain_acc: 62.30%\ttest_acc: 49.00%\n",
      "Step:  4200\tLoss: 806.877\ttrain_acc: 62.05%\ttest_acc: 50.00%\n",
      "Step:  4500\tLoss: 787.868\ttrain_acc: 63.15%\ttest_acc: 51.00%\n",
      "Step:  4800\tLoss: 770.248\ttrain_acc: 63.30%\ttest_acc: 52.00%\n",
      "Step:  5100\tLoss: 753.728\ttrain_acc: 63.50%\ttest_acc: 51.50%\n",
      "Step:  5400\tLoss: 737.909\ttrain_acc: 63.85%\ttest_acc: 50.50%\n",
      "Step:  5700\tLoss: 722.961\ttrain_acc: 64.25%\ttest_acc: 50.00%\n"
     ]
    }
   ],
   "source": [
    "import tensorflow as tf\n",
    "\n",
    "_, w, h, c = data_set['train_image'].shape\n",
    "num_of_class = len(np.unique(data_set['train_label'])) # train_label에 등장하는 class의 개수로 전체 클래스의 개수를 추정\n",
    "log = {\n",
    "    'loss' : [],\n",
    "    'training_accuracy' : [],\n",
    "    'test_accuracy' : []\n",
    "}\n",
    "\n",
    "l_rate = para['learning_rate']\n",
    "num_of_iteration = para['num_of_iteration']\n",
    "print_frequency = para['print_frequency']\n",
    "\n",
    "train_x = np.reshape(data_set['train_image'], (-1, w * h * c))\n",
    "test_x = np.reshape(data_set['test_image'], (-1, w * h * c))\n",
    "train_y = np.reshape(data_set['train_label'], (-1, 1))\n",
    "test_y = np.reshape(data_set['test_label'], (-1, 1))\n",
    "\n",
    "X = tf.placeholder(tf.float32, [None, w * h * c])\n",
    "Y = tf.placeholder(tf.int32, [None, 1])\n",
    "Y_one_hot = tf.one_hot(Y, num_of_class)\n",
    "Y_one_hot = tf.reshape(Y_one_hot, [-1, num_of_class])\n",
    "\n",
    "W = tf.Variable(tf.random_normal([w * h * c, num_of_class]), name='w')\n",
    "b = tf.Variable(tf.random_normal([num_of_class]), name='b')\n",
    "\n",
    "logits = tf.matmul(X, W) + b\n",
    "hypothesis = tf.nn.softmax(logits)\n",
    "\n",
    "cost_i = tf.nn.softmax_cross_entropy_with_logits(logits=logits, labels=Y_one_hot)\n",
    "cost = tf.reduce_mean(cost_i)\n",
    "optimizer = tf.train.GradientDescentOptimizer(learning_rate=l_rate).minimize(cost)\n",
    "\n",
    "prediction = tf.argmax(hypothesis, 1)\n",
    "correct_prediction = tf.equal(prediction, tf.argmax(Y_one_hot, 1))\n",
    "accuracy = tf.reduce_mean(tf.cast(correct_prediction, tf.float32))\n",
    "\n",
    "with tf.Session() as sess:\n",
    "    sess.run(tf.global_variables_initializer())\n",
    "\n",
    "    for step in range(num_of_iteration):\n",
    "        _, loss, train_acc = sess.run([optimizer, cost, accuracy], feed_dict={X: train_x, Y: train_y})\n",
    "        pred = sess.run(prediction, feed_dict={X: test_x})\n",
    "        result = []\n",
    "        for p, y in zip(pred, test_y.flatten()):\n",
    "            result.append(p == int(y))\n",
    "            \n",
    "        test_acc = sum(result) / len(result)\n",
    "        \n",
    "        log['loss'].append(loss)\n",
    "        log['training_accuracy'].append(train_acc)\n",
    "        log['test_accuracy'].append(test_acc)\n",
    "\n",
    "        if step % print_frequency == 0:\n",
    "            print(\"Step: {:5}\\tLoss: {:.3f}\\ttrain_acc: {:.2%}\\ttest_acc: {:.2%}\".format(step, loss, train_acc, test_acc))        "
   ]
  },
  {
   "cell_type": "code",
   "execution_count": 5,
   "metadata": {
    "collapsed": false,
    "deletable": true,
    "editable": true
   },
   "outputs": [
    {
     "data": {
      "image/png": "[encoded data removed]",
      "text/plain": [
       "<matplotlib.figure.Figure at 0x126873908>"
      ]
     },
     "metadata": {},
     "output_type": "display_data"
    }
   ],
   "source": [
    "plt.plot(range(num_of_iteration), log['loss'], 'r')\n",
    "plt.show()"
   ]
  },
  {
   "cell_type": "code",
   "execution_count": 6,
   "metadata": {
    "collapsed": false,
    "deletable": true,
    "editable": true
   },
   "outputs": [
    {
     "data": {
      "image/png": "[encoded data removed]",
      "text/plain": [
       "<matplotlib.figure.Figure at 0x126873550>"
      ]
     },
     "metadata": {},
     "output_type": "display_data"
    }
   ],
   "source": [
    "plt.plot(range(num_of_iteration), log['training_accuracy'], 'b',range(num_of_iteration), log['test_accuracy'], 'g')\n",
    "plt.show()"
   ]
  },
  {
   "cell_type": "code",
   "execution_count": 7,
   "metadata": {
    "collapsed": false,
    "deletable": true,
    "editable": true
   },
   "outputs": [
    {
     "name": "stdout",
     "output_type": "stream",
     "text": [
      "test acc : 49.50%\n"
     ]
    }
   ],
   "source": [
    "print(\"test acc : {:.2%}\".format(log['test_accuracy'][-1]))"
   ]
  }
 ],
 "metadata": {
  "kernelspec": {
   "display_name": "Python 3",
   "language": "python",
   "name": "python3"
  },
  "language_info": {
   "codemirror_mode": {
    "name": "ipython",
    "version": 3
   },
   "file_extension": ".py",
   "mimetype": "text/x-python",
   "name": "python",
   "nbconvert_exporter": "python",
   "pygments_lexer": "ipython3",
   "version": "3.6.1"
  }
 },
 "nbformat": 4,
 "nbformat_minor": 2
}
