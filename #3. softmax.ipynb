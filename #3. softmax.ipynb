{
 "cells": [
  {
   "cell_type": "code",
   "execution_count": 1,
   "metadata": {
    "collapsed": false,
    "deletable": true,
    "editable": true
   },
   "outputs": [],
   "source": [
    "from PIL import Image\n",
    "import matplotlib.pyplot as plt\n",
    "import numpy as np\n",
    "import pickle\n",
    "import json"
   ]
  },
  {
   "cell_type": "code",
   "execution_count": 3,
   "metadata": {
    "collapsed": false,
    "deletable": true,
    "editable": true
   },
   "outputs": [],
   "source": [
    "data_set = pickle.load(open('ioi.p', 'rb'))\n",
    "para = json.loads(open('para.json', 'r').read())"
   ]
  },
  {
   "cell_type": "code",
   "execution_count": 4,
   "metadata": {
    "collapsed": false,
    "deletable": true,
    "editable": true
   },
   "outputs": [
    {
     "data": {
      "text/plain": [
       "<matplotlib.image.AxesImage at 0x118065eb8>"
      ]
     },
     "execution_count": 4,
     "metadata": {},
     "output_type": "execute_result"
    },
    {
     "data": {
      "image/png": "[encoded data removed]",
      "text/plain": [
       "<matplotlib.figure.Figure at 0x111d2be10>"
      ]
     },
     "metadata": {},
     "output_type": "display_data"
    }
   ],
   "source": [
    "%matplotlib inline\n",
    "plt.imshow(data_set['train_image'][5]/255)"
   ]
  },
  {
   "cell_type": "code",
   "execution_count": 5,
   "metadata": {
    "collapsed": false,
    "deletable": true,
    "editable": true
   },
   "outputs": [
    {
     "name": "stdout",
     "output_type": "stream",
     "text": [
      "Step:     0\tLoss: 5345.142\ttrain_acc: 33.00%\ttest_acc: 32.33%\n",
      "Step:   100\tLoss: 3418.607\ttrain_acc: 34.93%\ttest_acc: 35.00%\n",
      "Step:   200\tLoss: 3264.788\ttrain_acc: 34.93%\ttest_acc: 35.33%\n",
      "Step:   300\tLoss: 3126.769\ttrain_acc: 34.73%\ttest_acc: 34.33%\n",
      "Step:   400\tLoss: 3004.768\ttrain_acc: 35.13%\ttest_acc: 34.67%\n",
      "Step:   500\tLoss: 2896.652\ttrain_acc: 34.67%\ttest_acc: 34.67%\n",
      "Step:   600\tLoss: 2802.745\ttrain_acc: 35.13%\ttest_acc: 35.33%\n",
      "Step:   700\tLoss: 2723.770\ttrain_acc: 35.33%\ttest_acc: 35.00%\n",
      "Step:   800\tLoss: 2652.320\ttrain_acc: 35.27%\ttest_acc: 35.00%\n",
      "Step:   900\tLoss: 2588.221\ttrain_acc: 35.80%\ttest_acc: 35.00%\n",
      "Step:  1000\tLoss: 2529.169\ttrain_acc: 35.60%\ttest_acc: 35.33%\n",
      "Step:  1100\tLoss: 2474.415\ttrain_acc: 35.53%\ttest_acc: 35.00%\n",
      "Step:  1200\tLoss: 2423.648\ttrain_acc: 34.87%\ttest_acc: 35.00%\n",
      "Step:  1300\tLoss: 2377.481\ttrain_acc: 35.13%\ttest_acc: 34.33%\n",
      "Step:  1400\tLoss: 2333.827\ttrain_acc: 35.33%\ttest_acc: 34.67%\n",
      "Step:  1500\tLoss: 2292.842\ttrain_acc: 35.07%\ttest_acc: 35.67%\n",
      "Step:  1600\tLoss: 2254.063\ttrain_acc: 35.47%\ttest_acc: 36.33%\n",
      "Step:  1700\tLoss: 2218.112\ttrain_acc: 36.13%\ttest_acc: 37.00%\n",
      "Step:  1800\tLoss: 2183.880\ttrain_acc: 36.20%\ttest_acc: 37.33%\n",
      "Step:  1900\tLoss: 2150.886\ttrain_acc: 36.07%\ttest_acc: 36.67%\n",
      "Step:  2000\tLoss: 2119.322\ttrain_acc: 36.73%\ttest_acc: 36.67%\n",
      "Step:  2100\tLoss: 2089.359\ttrain_acc: 36.80%\ttest_acc: 36.33%\n",
      "Step:  2200\tLoss: 2060.367\ttrain_acc: 36.53%\ttest_acc: 36.33%\n",
      "Step:  2300\tLoss: 2032.207\ttrain_acc: 36.53%\ttest_acc: 36.33%\n",
      "Step:  2400\tLoss: 2005.026\ttrain_acc: 37.00%\ttest_acc: 36.33%\n",
      "Step:  2500\tLoss: 1978.815\ttrain_acc: 36.53%\ttest_acc: 36.00%\n",
      "Step:  2600\tLoss: 1953.548\ttrain_acc: 36.73%\ttest_acc: 36.00%\n",
      "Step:  2700\tLoss: 1929.401\ttrain_acc: 37.00%\ttest_acc: 35.67%\n",
      "Step:  2800\tLoss: 1906.387\ttrain_acc: 36.73%\ttest_acc: 35.33%\n",
      "Step:  2900\tLoss: 1884.694\ttrain_acc: 37.47%\ttest_acc: 36.00%\n",
      "Step:  3000\tLoss: 1864.249\ttrain_acc: 37.87%\ttest_acc: 37.33%\n",
      "Step:  3100\tLoss: 1844.359\ttrain_acc: 38.07%\ttest_acc: 38.00%\n",
      "Step:  3200\tLoss: 1825.099\ttrain_acc: 38.27%\ttest_acc: 37.67%\n",
      "Step:  3300\tLoss: 1806.440\ttrain_acc: 38.60%\ttest_acc: 37.67%\n",
      "Step:  3400\tLoss: 1788.738\ttrain_acc: 39.33%\ttest_acc: 37.67%\n",
      "Step:  3500\tLoss: 1771.543\ttrain_acc: 39.53%\ttest_acc: 37.33%\n",
      "Step:  3600\tLoss: 1755.105\ttrain_acc: 39.33%\ttest_acc: 37.33%\n",
      "Step:  3700\tLoss: 1738.996\ttrain_acc: 39.20%\ttest_acc: 37.67%\n",
      "Step:  3800\tLoss: 1723.462\ttrain_acc: 38.93%\ttest_acc: 38.00%\n",
      "Step:  3900\tLoss: 1708.392\ttrain_acc: 39.67%\ttest_acc: 38.67%\n",
      "Step:  4000\tLoss: 1693.985\ttrain_acc: 39.60%\ttest_acc: 38.67%\n",
      "Step:  4100\tLoss: 1679.687\ttrain_acc: 39.13%\ttest_acc: 38.67%\n",
      "Step:  4200\tLoss: 1665.525\ttrain_acc: 38.53%\ttest_acc: 38.00%\n",
      "Step:  4300\tLoss: 1651.941\ttrain_acc: 39.53%\ttest_acc: 38.00%\n",
      "Step:  4400\tLoss: 1638.558\ttrain_acc: 39.93%\ttest_acc: 37.33%\n",
      "Step:  4500\tLoss: 1625.389\ttrain_acc: 40.13%\ttest_acc: 37.00%\n",
      "Step:  4600\tLoss: 1612.366\ttrain_acc: 40.13%\ttest_acc: 36.67%\n",
      "Step:  4700\tLoss: 1599.574\ttrain_acc: 40.00%\ttest_acc: 37.00%\n",
      "Step:  4800\tLoss: 1587.102\ttrain_acc: 40.67%\ttest_acc: 37.00%\n",
      "Step:  4900\tLoss: 1574.735\ttrain_acc: 40.60%\ttest_acc: 37.33%\n"
     ]
    }
   ],
   "source": [
    "import tensorflow as tf\n",
    "\n",
    "_, w, h, c = data_set['train_image'].shape\n",
    "num_of_class = len(np.unique(data_set['train_label'])) # train_label에 등장하는 class의 개수로 전체 클래스의 개수를 추정\n",
    "log = {\n",
    "    'loss' : [],\n",
    "    'training_accuracy' : [],\n",
    "    'test_accuracy' : []\n",
    "}\n",
    "\n",
    "l_rate = para['learning_rate']\n",
    "num_of_iteration = para['num_of_iteration']\n",
    "print_frequency = para['print_frequency']\n",
    "\n",
    "train_x = np.reshape(data_set['train_image'], (-1, w * h * c))\n",
    "test_x = np.reshape(data_set['test_image'], (-1, w * h * c))\n",
    "train_y = np.reshape(data_set['train_label'], (-1, 1))\n",
    "test_y = np.reshape(data_set['test_label'], (-1, 1))\n",
    "\n",
    "X = tf.placeholder(tf.float32, [None, w * h * c])\n",
    "Y = tf.placeholder(tf.int32, [None, 1])\n",
    "Y_one_hot = tf.one_hot(Y, num_of_class)\n",
    "Y_one_hot = tf.reshape(Y_one_hot, [-1, num_of_class])\n",
    "\n",
    "W = tf.Variable(tf.random_normal([w * h * c, num_of_class]), name='w')\n",
    "b = tf.Variable(tf.random_normal([num_of_class]), name='b')\n",
    "\n",
    "logits = tf.matmul(X, W) + b\n",
    "hypothesis = tf.nn.softmax(logits)\n",
    "\n",
    "cost_i = tf.nn.softmax_cross_entropy_with_logits(logits=logits, labels=Y_one_hot)\n",
    "cost = tf.reduce_mean(cost_i)\n",
    "optimizer = tf.train.GradientDescentOptimizer(learning_rate=l_rate).minimize(cost)\n",
    "\n",
    "prediction = tf.argmax(hypothesis, 1)\n",
    "correct_prediction = tf.equal(prediction, tf.argmax(Y_one_hot, 1))\n",
    "accuracy = tf.reduce_mean(tf.cast(correct_prediction, tf.float32))\n",
    "\n",
    "with tf.Session() as sess:\n",
    "    sess.run(tf.global_variables_initializer())\n",
    "\n",
    "    for step in range(num_of_iteration):\n",
    "        _, loss, train_acc = sess.run([optimizer, cost, accuracy], feed_dict={X: train_x, Y: train_y})\n",
    "        pred = sess.run(prediction, feed_dict={X: test_x})\n",
    "        result = []\n",
    "        for p, y in zip(pred, test_y.flatten()):\n",
    "            result.append(p == int(y))\n",
    "            \n",
    "        test_acc = sum(result) / len(result)\n",
    "        \n",
    "        log['loss'].append(loss)\n",
    "        log['training_accuracy'].append(train_acc)\n",
    "        log['test_accuracy'].append(test_acc)\n",
    "\n",
    "        if step % print_frequency == 0:\n",
    "            print(\"Step: {:5}\\tLoss: {:.3f}\\ttrain_acc: {:.2%}\\ttest_acc: {:.2%}\".format(step, loss, train_acc, test_acc))"
   ]
  },
  {
   "cell_type": "code",
   "execution_count": 6,
   "metadata": {
    "collapsed": false,
    "deletable": true,
    "editable": true
   },
   "outputs": [
    {
     "data": {
      "image/png": "[encoded data removed]",
      "text/plain": [
       "<matplotlib.figure.Figure at 0x12c6f6a58>"
      ]
     },
     "metadata": {},
     "output_type": "display_data"
    }
   ],
   "source": [
    "plt.plot(range(num_of_iteration), log['loss'], 'r')\n",
    "plt.show()"
   ]
  },
  {
   "cell_type": "code",
   "execution_count": 7,
   "metadata": {
    "collapsed": false,
    "deletable": true,
    "editable": true
   },
   "outputs": [
    {
     "data": {
      "image/png": "[encoded data removed]",
      "text/plain": [
       "<matplotlib.figure.Figure at 0x12f60d438>"
      ]
     },
     "metadata": {},
     "output_type": "display_data"
    }
   ],
   "source": [
    "plt.plot(range(num_of_iteration), log['training_accuracy'], 'b',range(num_of_iteration), log['test_accuracy'], 'g')\n",
    "plt.show()"
   ]
  },
  {
   "cell_type": "code",
   "execution_count": 8,
   "metadata": {
    "collapsed": false,
    "deletable": true,
    "editable": true
   },
   "outputs": [
    {
     "name": "stdout",
     "output_type": "stream",
     "text": [
      "test acc : 37.33%\n"
     ]
    }
   ],
   "source": [
    "print(\"test acc : {:.2%}\".format(log['test_accuracy'][-1]))"
   ]
  }
 ],
 "metadata": {
  "kernelspec": {
   "display_name": "Python 3",
   "language": "python",
   "name": "python3"
  },
  "language_info": {
   "codemirror_mode": {
    "name": "ipython",
    "version": 3
   },
   "file_extension": ".py",
   "mimetype": "text/x-python",
   "name": "python",
   "nbconvert_exporter": "python",
   "pygments_lexer": "ipython3",
   "version": "3.6.1"
  }
 },
 "nbformat": 4,
 "nbformat_minor": 2
}
