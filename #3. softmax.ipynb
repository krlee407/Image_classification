{
 "cells": [
  {
   "cell_type": "code",
   "execution_count": 1,
   "metadata": {
    "collapsed": false,
    "deletable": true,
    "editable": true
   },
   "outputs": [],
   "source": [
    "from PIL import Image\n",
    "import matplotlib.pyplot as plt\n",
    "import numpy as np\n",
    "import pickle\n",
    "import json"
   ]
  },
  {
   "cell_type": "code",
   "execution_count": 2,
   "metadata": {
    "collapsed": false,
    "deletable": true,
    "editable": true
   },
   "outputs": [],
   "source": [
    "data_set = pickle.load(open('mushroom.p', 'rb'))\n",
    "para = json.loads(open('para.json', 'r').read())"
   ]
  },
  {
   "cell_type": "code",
   "execution_count": 3,
   "metadata": {
    "collapsed": false,
    "deletable": true,
    "editable": true
   },
   "outputs": [
    {
     "data": {
      "text/plain": [
       "<matplotlib.image.AxesImage at 0xe1d6be0>"
      ]
     },
     "execution_count": 3,
     "metadata": {},
     "output_type": "execute_result"
    },
    {
     "data": {
      "image/png": "[encoded data removed]",
      "text/plain": [
       "<matplotlib.figure.Figure at 0xdf6d8d0>"
      ]
     },
     "metadata": {},
     "output_type": "display_data"
    }
   ],
   "source": [
    "%matplotlib inline\n",
    "plt.imshow(data_set['train_image'][1001]/255)"
   ]
  },
  {
   "cell_type": "code",
   "execution_count": 4,
   "metadata": {
    "collapsed": false,
    "deletable": true,
    "editable": true
   },
   "outputs": [
    {
     "name": "stdout",
     "output_type": "stream",
     "text": [
      "Step:     0\tLoss: 1461.187\ttrain_acc: 54.05%\ttest_acc: 55.50%\n",
      "Step:   100\tLoss: 1421.132\ttrain_acc: 54.40%\ttest_acc: 56.00%\n",
      "Step:   200\tLoss: 1391.735\ttrain_acc: 54.80%\ttest_acc: 56.50%\n",
      "Step:   300\tLoss: 1364.328\ttrain_acc: 54.75%\ttest_acc: 57.50%\n",
      "Step:   400\tLoss: 1337.540\ttrain_acc: 54.75%\ttest_acc: 57.50%\n",
      "Step:   500\tLoss: 1311.456\ttrain_acc: 55.20%\ttest_acc: 57.00%\n",
      "Step:   600\tLoss: 1286.632\ttrain_acc: 55.75%\ttest_acc: 57.50%\n",
      "Step:   700\tLoss: 1264.084\ttrain_acc: 55.80%\ttest_acc: 57.50%\n",
      "Step:   800\tLoss: 1242.511\ttrain_acc: 55.95%\ttest_acc: 57.00%\n",
      "Step:   900\tLoss: 1222.351\ttrain_acc: 55.90%\ttest_acc: 57.50%\n",
      "Step:  1000\tLoss: 1204.130\ttrain_acc: 56.35%\ttest_acc: 57.00%\n",
      "Step:  1100\tLoss: 1186.676\ttrain_acc: 56.30%\ttest_acc: 57.50%\n",
      "Step:  1200\tLoss: 1169.714\ttrain_acc: 56.20%\ttest_acc: 58.00%\n",
      "Step:  1300\tLoss: 1153.248\ttrain_acc: 56.35%\ttest_acc: 58.00%\n",
      "Step:  1400\tLoss: 1137.618\ttrain_acc: 56.20%\ttest_acc: 58.50%\n",
      "Step:  1500\tLoss: 1122.761\ttrain_acc: 56.30%\ttest_acc: 58.50%\n",
      "Step:  1600\tLoss: 1108.238\ttrain_acc: 56.30%\ttest_acc: 58.00%\n",
      "Step:  1700\tLoss: 1094.084\ttrain_acc: 56.85%\ttest_acc: 58.50%\n",
      "Step:  1800\tLoss: 1080.433\ttrain_acc: 56.95%\ttest_acc: 58.00%\n",
      "Step:  1900\tLoss: 1067.262\ttrain_acc: 57.20%\ttest_acc: 58.00%\n",
      "Step:  2000\tLoss: 1054.977\ttrain_acc: 57.45%\ttest_acc: 57.00%\n",
      "Step:  2100\tLoss: 1043.527\ttrain_acc: 57.85%\ttest_acc: 58.00%\n",
      "Step:  2200\tLoss: 1032.464\ttrain_acc: 58.40%\ttest_acc: 57.50%\n",
      "Step:  2300\tLoss: 1021.801\ttrain_acc: 58.70%\ttest_acc: 57.00%\n",
      "Step:  2400\tLoss: 1011.261\ttrain_acc: 58.75%\ttest_acc: 57.00%\n",
      "Step:  2500\tLoss: 1000.806\ttrain_acc: 58.70%\ttest_acc: 58.00%\n",
      "Step:  2600\tLoss: 990.669\ttrain_acc: 58.35%\ttest_acc: 57.50%\n",
      "Step:  2700\tLoss: 981.150\ttrain_acc: 58.25%\ttest_acc: 57.50%\n",
      "Step:  2800\tLoss: 971.864\ttrain_acc: 58.25%\ttest_acc: 58.00%\n",
      "Step:  2900\tLoss: 962.795\ttrain_acc: 58.25%\ttest_acc: 58.00%\n",
      "Step:  3000\tLoss: 953.764\ttrain_acc: 58.10%\ttest_acc: 58.00%\n",
      "Step:  3100\tLoss: 944.883\ttrain_acc: 58.10%\ttest_acc: 57.50%\n",
      "Step:  3200\tLoss: 936.250\ttrain_acc: 58.35%\ttest_acc: 57.50%\n",
      "Step:  3300\tLoss: 927.888\ttrain_acc: 58.45%\ttest_acc: 57.50%\n",
      "Step:  3400\tLoss: 919.727\ttrain_acc: 58.40%\ttest_acc: 56.50%\n",
      "Step:  3500\tLoss: 911.718\ttrain_acc: 58.45%\ttest_acc: 57.00%\n",
      "Step:  3600\tLoss: 903.976\ttrain_acc: 59.00%\ttest_acc: 56.50%\n",
      "Step:  3700\tLoss: 896.388\ttrain_acc: 59.50%\ttest_acc: 57.00%\n",
      "Step:  3800\tLoss: 888.904\ttrain_acc: 59.20%\ttest_acc: 56.50%\n",
      "Step:  3900\tLoss: 881.558\ttrain_acc: 59.05%\ttest_acc: 57.00%\n",
      "Step:  4000\tLoss: 874.304\ttrain_acc: 59.20%\ttest_acc: 57.00%\n",
      "Step:  4100\tLoss: 867.056\ttrain_acc: 59.10%\ttest_acc: 57.00%\n",
      "Step:  4200\tLoss: 859.889\ttrain_acc: 59.15%\ttest_acc: 57.00%\n",
      "Step:  4300\tLoss: 852.941\ttrain_acc: 59.75%\ttest_acc: 57.00%\n",
      "Step:  4400\tLoss: 846.144\ttrain_acc: 59.85%\ttest_acc: 58.00%\n",
      "Step:  4500\tLoss: 839.435\ttrain_acc: 59.75%\ttest_acc: 57.00%\n",
      "Step:  4600\tLoss: 832.771\ttrain_acc: 59.60%\ttest_acc: 57.00%\n",
      "Step:  4700\tLoss: 826.275\ttrain_acc: 60.10%\ttest_acc: 56.00%\n",
      "Step:  4800\tLoss: 819.902\ttrain_acc: 60.00%\ttest_acc: 56.50%\n",
      "Step:  4900\tLoss: 813.606\ttrain_acc: 60.20%\ttest_acc: 57.00%\n"
     ]
    }
   ],
   "source": [
    "import tensorflow as tf\n",
    "\n",
    "_, w, h, c = data_set['train_image'].shape\n",
    "num_of_class = len(np.unique(data_set['train_label'])) # train_label에 등장하는 class의 개수로 전체 클래스의 개수를 추정\n",
    "log = {\n",
    "    'loss' : [],\n",
    "    'training_accuracy' : [],\n",
    "    'test_accuracy' : []\n",
    "}\n",
    "\n",
    "l_rate = para['learning_rate']\n",
    "num_of_iteration = para['num_of_iteration']\n",
    "print_frequency = para['print_frequency']\n",
    "\n",
    "train_x = np.reshape(data_set['train_image'], (-1, w * h * c))\n",
    "test_x = np.reshape(data_set['test_image'], (-1, w * h * c))\n",
    "train_y = np.reshape(data_set['train_label'], (-1, 1))\n",
    "test_y = np.reshape(data_set['test_label'], (-1, 1))\n",
    "\n",
    "X = tf.placeholder(tf.float32, [None, w * h * c])\n",
    "Y = tf.placeholder(tf.int32, [None, 1])\n",
    "Y_one_hot = tf.one_hot(Y, num_of_class)\n",
    "Y_one_hot = tf.reshape(Y_one_hot, [-1, num_of_class])\n",
    "\n",
    "W = tf.Variable(tf.random_normal([w * h * c, num_of_class]), name='w')\n",
    "b = tf.Variable(tf.random_normal([num_of_class]), name='b')\n",
    "\n",
    "logits = tf.matmul(X, W) + b\n",
    "hypothesis = tf.nn.softmax(logits)\n",
    "\n",
    "cost_i = tf.nn.softmax_cross_entropy_with_logits(logits=logits, labels=Y_one_hot)\n",
    "cost = tf.reduce_mean(cost_i)\n",
    "optimizer = tf.train.GradientDescentOptimizer(learning_rate=l_rate).minimize(cost)\n",
    "\n",
    "prediction = tf.argmax(hypothesis, 1)\n",
    "correct_prediction = tf.equal(prediction, tf.argmax(Y_one_hot, 1))\n",
    "accuracy = tf.reduce_mean(tf.cast(correct_prediction, tf.float32))\n",
    "\n",
    "with tf.Session() as sess:\n",
    "    sess.run(tf.global_variables_initializer())\n",
    "\n",
    "    for step in range(num_of_iteration):\n",
    "        _, loss, train_acc = sess.run([optimizer, cost, accuracy], feed_dict={X: train_x, Y: train_y})\n",
    "        pred = sess.run(prediction, feed_dict={X: test_x})\n",
    "        result = []\n",
    "        for p, y in zip(pred, test_y.flatten()):\n",
    "            result.append(p == int(y))\n",
    "            \n",
    "        test_acc = sum(result) / len(result)\n",
    "        \n",
    "        log['loss'].append(loss)\n",
    "        log['training_accuracy'].append(train_acc)\n",
    "        log['test_accuracy'].append(test_acc)\n",
    "\n",
    "        if step % print_frequency == 0:\n",
    "            print(\"Step: {:5}\\tLoss: {:.3f}\\ttrain_acc: {:.2%}\\ttest_acc: {:.2%}\".format(step, loss, train_acc, test_acc))"
   ]
  },
  {
   "cell_type": "code",
   "execution_count": 5,
   "metadata": {
    "collapsed": false,
    "deletable": true,
    "editable": true
   },
   "outputs": [
    {
     "data": {
      "image/png": "[encoded data removed]",
      "text/plain": [
       "<matplotlib.figure.Figure at 0xe20d588>"
      ]
     },
     "metadata": {},
     "output_type": "display_data"
    }
   ],
   "source": [
    "plt.plot(range(num_of_iteration), log['loss'], 'r')\n",
    "plt.show()"
   ]
  },
  {
   "cell_type": "code",
   "execution_count": 6,
   "metadata": {
    "collapsed": false,
    "deletable": true,
    "editable": true
   },
   "outputs": [
    {
     "data": {
      "image/png": "[encoded data removed]",
      "text/plain": [
       "<matplotlib.figure.Figure at 0xe2650f0>"
      ]
     },
     "metadata": {},
     "output_type": "display_data"
    }
   ],
   "source": [
    "plt.plot(range(num_of_iteration), log['training_accuracy'], 'b',range(num_of_iteration), log['test_accuracy'], 'g')\n",
    "plt.show()"
   ]
  },
  {
   "cell_type": "code",
   "execution_count": 7,
   "metadata": {
    "collapsed": false,
    "deletable": true,
    "editable": true
   },
   "outputs": [
    {
     "name": "stdout",
     "output_type": "stream",
     "text": [
      "test acc : 57.00%\n"
     ]
    }
   ],
   "source": [
    "print(\"test acc : {:.2%}\".format(log['test_accuracy'][-1]))"
   ]
  }
 ],
 "metadata": {
  "kernelspec": {
   "display_name": "Python 3",
   "language": "python",
   "name": "python3"
  },
  "language_info": {
   "codemirror_mode": {
    "name": "ipython",
    "version": 3
   },
   "file_extension": ".py",
   "mimetype": "text/x-python",
   "name": "python",
   "nbconvert_exporter": "python",
   "pygments_lexer": "ipython3",
   "version": "3.6.0"
  }
 },
 "nbformat": 4,
 "nbformat_minor": 2
}
