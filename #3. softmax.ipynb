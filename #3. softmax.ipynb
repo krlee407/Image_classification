{
 "cells": [
  {
   "cell_type": "code",
   "execution_count": 1,
   "metadata": {
    "collapsed": false,
    "deletable": true,
    "editable": true
   },
   "outputs": [],
   "source": [
    "from PIL import Image\n",
    "import matplotlib.pyplot as plt\n",
    "import numpy as np\n",
    "import pickle\n",
    "import json"
   ]
  },
  {
   "cell_type": "code",
   "execution_count": 2,
   "metadata": {
    "collapsed": false,
    "deletable": true,
    "editable": true
   },
   "outputs": [],
   "source": [
    "data_set = pickle.load(open('mushroom.p', 'rb'))\n",
    "para = json.loads(open('para.json', 'r').read())"
   ]
  },
  {
   "cell_type": "code",
   "execution_count": 3,
   "metadata": {
    "collapsed": false,
    "deletable": true,
    "editable": true
   },
   "outputs": [
    {
     "data": {
      "text/plain": [
       "<matplotlib.image.AxesImage at 0xe227b38>"
      ]
     },
     "execution_count": 3,
     "metadata": {},
     "output_type": "execute_result"
    },
    {
     "data": {
      "image/png": "[encoded data removed]",
      "text/plain": [
       "<matplotlib.figure.Figure at 0xe18c588>"
      ]
     },
     "metadata": {},
     "output_type": "display_data"
    }
   ],
   "source": [
    "%matplotlib inline\n",
    "plt.imshow(data_set['train_image'][1001]/255)"
   ]
  },
  {
   "cell_type": "code",
   "execution_count": 4,
   "metadata": {
    "collapsed": false,
    "deletable": true,
    "editable": true
   },
   "outputs": [
    {
     "name": "stdout",
     "output_type": "stream",
     "text": [
      "Step:     0\tLoss: 5909.888\ttrain_acc: 50.20%\ttest_acc: 50.00%\n",
      "Step:   100\tLoss: 1339.691\ttrain_acc: 54.85%\ttest_acc: 53.00%\n",
      "Step:   200\tLoss: 1309.511\ttrain_acc: 54.65%\ttest_acc: 52.00%\n",
      "Step:   300\tLoss: 1282.888\ttrain_acc: 54.45%\ttest_acc: 52.00%\n",
      "Step:   400\tLoss: 1258.284\ttrain_acc: 54.30%\ttest_acc: 52.00%\n",
      "Step:   500\tLoss: 1235.804\ttrain_acc: 54.30%\ttest_acc: 52.00%\n",
      "Step:   600\tLoss: 1216.459\ttrain_acc: 54.55%\ttest_acc: 53.00%\n",
      "Step:   700\tLoss: 1198.444\ttrain_acc: 54.85%\ttest_acc: 53.50%\n",
      "Step:   800\tLoss: 1181.624\ttrain_acc: 55.30%\ttest_acc: 54.50%\n",
      "Step:   900\tLoss: 1165.519\ttrain_acc: 55.25%\ttest_acc: 55.00%\n",
      "Step:  1000\tLoss: 1150.280\ttrain_acc: 55.20%\ttest_acc: 54.00%\n",
      "Step:  1100\tLoss: 1135.504\ttrain_acc: 54.75%\ttest_acc: 55.00%\n",
      "Step:  1200\tLoss: 1121.350\ttrain_acc: 55.05%\ttest_acc: 55.00%\n",
      "Step:  1300\tLoss: 1107.616\ttrain_acc: 54.90%\ttest_acc: 55.50%\n",
      "Step:  1400\tLoss: 1094.071\ttrain_acc: 55.15%\ttest_acc: 55.50%\n",
      "Step:  1500\tLoss: 1080.641\ttrain_acc: 55.10%\ttest_acc: 55.50%\n",
      "Step:  1600\tLoss: 1067.640\ttrain_acc: 55.30%\ttest_acc: 56.00%\n",
      "Step:  1700\tLoss: 1054.712\ttrain_acc: 55.25%\ttest_acc: 56.00%\n",
      "Step:  1800\tLoss: 1041.891\ttrain_acc: 55.40%\ttest_acc: 56.00%\n",
      "Step:  1900\tLoss: 1029.581\ttrain_acc: 55.20%\ttest_acc: 56.00%\n"
     ]
    }
   ],
   "source": [
    "import tensorflow as tf\n",
    "\n",
    "_, w, h, c = data_set['train_image'].shape\n",
    "num_of_class = len(np.unique(data_set['train_label'])) # train_label에 등장하는 class의 개수로 전체 클래스의 개수를 추정\n",
    "log = {\n",
    "    'loss' : [],\n",
    "    'training_accuracy' : [],\n",
    "    'test_accuracy' : []\n",
    "}\n",
    "\n",
    "l_rate = para['learning_rate']\n",
    "num_of_iteration = para['num_of_iteration']\n",
    "print_frequency = para['print_frequency']\n",
    "\n",
    "train_x = np.reshape(data_set['train_image'], (-1, w * h * c))\n",
    "test_x = np.reshape(data_set['test_image'], (-1, w * h * c))\n",
    "train_y = np.reshape(data_set['train_label'], (-1, 1))\n",
    "test_y = np.reshape(data_set['test_label'], (-1, 1))\n",
    "\n",
    "X = tf.placeholder(tf.float32, [None, w * h * c])\n",
    "Y = tf.placeholder(tf.int32, [None, 1])\n",
    "Y_one_hot = tf.one_hot(Y, num_of_class)\n",
    "Y_one_hot = tf.reshape(Y_one_hot, [-1, num_of_class])\n",
    "\n",
    "W = tf.Variable(tf.random_normal([w * h * c, num_of_class]), name='w')\n",
    "b = tf.Variable(tf.random_normal([num_of_class]), name='b')\n",
    "\n",
    "logits = tf.matmul(X, W) + b\n",
    "hypothesis = tf.nn.softmax(logits)\n",
    "\n",
    "cost_i = tf.nn.softmax_cross_entropy_with_logits(logits=logits, labels=Y_one_hot)\n",
    "cost = tf.reduce_mean(cost_i)\n",
    "optimizer = tf.train.GradientDescentOptimizer(learning_rate=l_rate).minimize(cost)\n",
    "\n",
    "prediction = tf.argmax(hypothesis, 1)\n",
    "correct_prediction = tf.equal(prediction, tf.argmax(Y_one_hot, 1))\n",
    "accuracy = tf.reduce_mean(tf.cast(correct_prediction, tf.float32))\n",
    "\n",
    "with tf.Session() as sess:\n",
    "    sess.run(tf.global_variables_initializer())\n",
    "\n",
    "    for step in range(num_of_iteration):\n",
    "        _, loss, train_acc = sess.run([optimizer, cost, accuracy], feed_dict={X: train_x, Y: train_y})\n",
    "        pred = sess.run(prediction, feed_dict={X: test_x})\n",
    "        result = []\n",
    "        for p, y in zip(pred, test_y.flatten()):\n",
    "            result.append(p == int(y))\n",
    "            \n",
    "        test_acc = sum(result) / len(result)\n",
    "        \n",
    "        log['loss'].append(loss)\n",
    "        log['training_accuracy'].append(train_acc)\n",
    "        log['test_accuracy'].append(test_acc)\n",
    "\n",
    "        if step % print_frequency == 0:\n",
    "            print(\"Step: {:5}\\tLoss: {:.3f}\\ttrain_acc: {:.2%}\\ttest_acc: {:.2%}\".format(step, loss, train_acc, test_acc))        "
   ]
  },
  {
   "cell_type": "code",
   "execution_count": 5,
   "metadata": {
    "collapsed": false,
    "deletable": true,
    "editable": true
   },
   "outputs": [
    {
     "data": {
      "image/png": "[encoded data removed]",
      "text/plain": [
       "<matplotlib.figure.Figure at 0xe264d30>"
      ]
     },
     "metadata": {},
     "output_type": "display_data"
    }
   ],
   "source": [
    "plt.plot(range(num_of_iteration), log['loss'], 'r')\n",
    "plt.show()"
   ]
  },
  {
   "cell_type": "code",
   "execution_count": 6,
   "metadata": {
    "collapsed": false,
    "deletable": true,
    "editable": true
   },
   "outputs": [
    {
     "data": {
      "image/png": "[encoded data removed]",
      "text/plain": [
       "<matplotlib.figure.Figure at 0x18145a20>"
      ]
     },
     "metadata": {},
     "output_type": "display_data"
    }
   ],
   "source": [
    "plt.plot(range(num_of_iteration), log['training_accuracy'], 'b',range(num_of_iteration), log['test_accuracy'], 'g')\n",
    "plt.show()"
   ]
  },
  {
   "cell_type": "code",
   "execution_count": 7,
   "metadata": {
    "collapsed": false,
    "deletable": true,
    "editable": true
   },
   "outputs": [
    {
     "name": "stdout",
     "output_type": "stream",
     "text": [
      "test acc : 56.00%\n"
     ]
    }
   ],
   "source": [
    "print(\"test acc : {:.2%}\".format(log['test_accuracy'][-1]))"
   ]
  }
 ],
 "metadata": {
  "kernelspec": {
   "display_name": "Python 3",
   "language": "python",
   "name": "python3"
  },
  "language_info": {
   "codemirror_mode": {
    "name": "ipython",
    "version": 3
   },
   "file_extension": ".py",
   "mimetype": "text/x-python",
   "name": "python",
   "nbconvert_exporter": "python",
   "pygments_lexer": "ipython3",
   "version": "3.6.0"
  }
 },
 "nbformat": 4,
 "nbformat_minor": 2
}
