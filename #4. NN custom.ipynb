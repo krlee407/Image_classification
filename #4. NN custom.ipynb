{
 "cells": [
  {
   "cell_type": "code",
   "execution_count": 1,
   "metadata": {
    "collapsed": true,
    "deletable": true,
    "editable": true
   },
   "outputs": [],
   "source": [
    "import numpy as np\n",
    "import tensorflow as tf\n",
    "import pickle\n",
    "import matplotlib.pyplot as plt"
   ]
  },
  {
   "cell_type": "code",
   "execution_count": 2,
   "metadata": {
    "collapsed": true,
    "deletable": true,
    "editable": true
   },
   "outputs": [],
   "source": [
    "def get_key(index):\n",
    "    return list(para['label_dictionary'].keys())[list(para['label_dictionary'].values()).index(index)]\n",
    "\n",
    "def batch_index(l, batch_size):\n",
    "    a = l // batch_size\n",
    "    b = np.random.permutation(l)\n",
    "    c = np.split(b, [(i+1) * batch_size for i in range(a)])\n",
    "    if len(c[-1]) == 0:\n",
    "        c = c[:-1]\n",
    "    return c\n",
    "\n",
    "def cal_acc(pred_result_list):\n",
    "    return sum(pred_result_list) / len(pred_result_list)"
   ]
  },
  {
   "cell_type": "code",
   "execution_count": 3,
   "metadata": {
    "collapsed": true,
    "deletable": true,
    "editable": true
   },
   "outputs": [],
   "source": [
    "data = pickle.load(open('mushroom.p', 'rb'))"
   ]
  },
  {
   "cell_type": "code",
   "execution_count": 4,
   "metadata": {
    "collapsed": false,
    "deletable": true,
    "editable": true
   },
   "outputs": [],
   "source": [
    "_, w, h, c = data['train_image'].shape\n",
    "num_of_class = len(np.unique(data['train_label'])) # train_label에 등장하는 class의 개수로 전체 클래스의 개수를 추정\n",
    "log = {\n",
    "    'loss' : [],\n",
    "    'train_acc' : [],\n",
    "    'test_acc' : []\n",
    "}"
   ]
  },
  {
   "cell_type": "code",
   "execution_count": 5,
   "metadata": {
    "collapsed": true,
    "deletable": true,
    "editable": true
   },
   "outputs": [],
   "source": [
    "learning_rate = 0.00000000001\n",
    "n_epochs = 25\n",
    "batch_size = 16"
   ]
  },
  {
   "cell_type": "code",
   "execution_count": 11,
   "metadata": {
    "collapsed": false,
    "deletable": true,
    "editable": true
   },
   "outputs": [],
   "source": [
    "tf.reset_default_graph()\n",
    "\n",
    "X = tf.placeholder(tf.float32, [None, w * h * c])\n",
    "y = tf.placeholder(tf.int32, [None, 1])\n",
    "Y_one_hot = tf.one_hot(y, num_of_class)\n",
    "Y_one_hot = tf.reshape(Y_one_hot, [-1, num_of_class])\n",
    "\n",
    "W1 = tf.get_variable(\"W1\", shape=[w * h * c, 512],\n",
    "                     initializer=tf.contrib.layers.xavier_initializer())\n",
    "b1 = tf.Variable(tf.random_normal([512]))\n",
    "L1 = tf.nn.relu(tf.matmul(X, W1) + b1)\n",
    "\n",
    "W2 = tf.get_variable(\"W2\", shape=[512, num_of_class],\n",
    "                     initializer=tf.contrib.layers.xavier_initializer())\n",
    "b2 = tf.Variable(tf.random_normal([num_of_class]))\n",
    "\n",
    "\n",
    "hypothesis = tf.matmul(L1, W2) + b2\n",
    "#logits = tf.matmul(H1, W2) + b2\n",
    "#hypothesis = tf.nn.softmax(logits)\n",
    "cost = tf.reduce_mean(tf.nn.softmax_cross_entropy_with_logits(\n",
    "    logits=hypothesis, labels=Y_one_hot))\n",
    "optimizer = tf.train.AdamOptimizer(learning_rate=learning_rate).minimize(cost)\n",
    "\n",
    "\n",
    "\n",
    "#cost_i = tf.nn.softmax_cross_entropy_with_logits(logits=logits, labels=Y_one_hot)\n",
    "#cost = tf.reduce_mean(cost_i)\n",
    "#optimizer = tf.train.GradientDescentOptimizer(learning_rate=learning_rate).minimize(cost)\n",
    "\n",
    "prediction = tf.argmax(hypothesis, 1)\n",
    "correct_prediction = tf.equal(prediction, tf.argmax(Y_one_hot, 1))\n",
    "accuracy = tf.reduce_mean(tf.cast(correct_prediction, tf.float32))"
   ]
  },
  {
   "cell_type": "code",
   "execution_count": 12,
   "metadata": {
    "collapsed": false,
    "deletable": true,
    "editable": true
   },
   "outputs": [
    {
     "name": "stdout",
     "output_type": "stream",
     "text": [
      "Epoch: 0 Train accuracy: 0.4375 Test accuracy: 0.415\n",
      "Epoch: 1 Train accuracy: 0.4375 Test accuracy: 0.415\n",
      "Epoch: 2 Train accuracy: 0.4375 Test accuracy: 0.415\n",
      "Epoch: 3 Train accuracy: 0.625 Test accuracy: 0.415\n",
      "Epoch: 4 Train accuracy: 0.6875 Test accuracy: 0.415\n",
      "Epoch: 5 Train accuracy: 0.4375 Test accuracy: 0.415\n",
      "Epoch: 6 Train accuracy: 0.5625 Test accuracy: 0.415\n",
      "Epoch: 7 Train accuracy: 0.5625 Test accuracy: 0.415\n",
      "Epoch: 8 Train accuracy: 0.5 Test accuracy: 0.415\n",
      "Epoch: 9 Train accuracy: 0.625 Test accuracy: 0.415\n",
      "Epoch: 10 Train accuracy: 0.625 Test accuracy: 0.415\n",
      "Epoch: 11 Train accuracy: 0.4375 Test accuracy: 0.415\n",
      "Epoch: 12 Train accuracy: 0.625 Test accuracy: 0.415\n",
      "Epoch: 13 Train accuracy: 0.625 Test accuracy: 0.415\n",
      "Epoch: 14 Train accuracy: 0.625 Test accuracy: 0.415\n",
      "Epoch: 15 Train accuracy: 0.4375 Test accuracy: 0.415\n",
      "Epoch: 16 Train accuracy: 0.6875 Test accuracy: 0.415\n",
      "Epoch: 17 Train accuracy: 0.5625 Test accuracy: 0.415\n",
      "Epoch: 18 Train accuracy: 0.6875 Test accuracy: 0.415\n",
      "Epoch: 19 Train accuracy: 0.375 Test accuracy: 0.415\n",
      "Epoch: 20 Train accuracy: 0.5 Test accuracy: 0.415\n",
      "Epoch: 21 Train accuracy: 0.375 Test accuracy: 0.415\n",
      "Epoch: 22 Train accuracy: 0.6875 Test accuracy: 0.415\n",
      "Epoch: 23 Train accuracy: 0.6875 Test accuracy: 0.415\n",
      "Epoch: 24 Train accuracy: 0.5 Test accuracy: 0.415\n"
     ]
    }
   ],
   "source": [
    "sess = tf.Session()\n",
    "sess.run(tf.global_variables_initializer())\n",
    "\n",
    "test_X = np.reshape(data['test_image'], (-1, w*h*c))\n",
    "test_y = np.reshape(data['test_label'], (-1,1))\n",
    "\n",
    "for epoch in range(n_epochs):\n",
    "    for ind in batch_index(len(data['train_image']), batch_size):\n",
    "        X_batch, y_batch = data['train_image'][ind], np.reshape(data['train_label'][ind], (-1,1))\n",
    "        X_batch = np.reshape(X_batch, (-1, w * h * c))\n",
    "        \n",
    "        _, train_correct, loss1 = sess.run([optimizer, accuracy, cost], feed_dict={X: X_batch, y: y_batch})\n",
    "        log['train_acc'].append(train_correct)\n",
    "        log['loss'].append(loss1)\n",
    "        \n",
    "        test_correct = sess.run(accuracy, feed_dict={X: test_X, y: test_y})\n",
    "        log['test_acc'].append(test_correct)\n",
    "        \n",
    "    acc_train = sess.run(accuracy, feed_dict={X: X_batch, y: y_batch})\n",
    "    acc_test = sess.run(accuracy, feed_dict={X: test_X, y: test_y})\n",
    "    print(\"Epoch:\", epoch, \"Train accuracy:\", acc_train, \"Test accuracy:\", acc_test)"
   ]
  },
  {
   "cell_type": "code",
   "execution_count": 9,
   "metadata": {
    "collapsed": false,
    "deletable": true,
    "editable": true
   },
   "outputs": [
    {
     "data": {
      "image/png": "[encoded data removed]",
      "text/plain": [
       "<matplotlib.figure.Figure at 0x152bd4e0>"
      ]
     },
     "metadata": {},
     "output_type": "display_data"
    }
   ],
   "source": [
    "l = len(log['loss'])\n",
    "plt.subplot(311)\n",
    "plt.plot(range(l), log['loss'])\n",
    "plt.title('loss')\n",
    "plt.subplot(313)\n",
    "plt.plot(range(l), log['train_acc'], 'b', range(l), log['test_acc'], 'g')\n",
    "plt.title('acc')\n",
    "plt.show()"
   ]
  },
  {
   "cell_type": "code",
   "execution_count": 32,
   "metadata": {
    "collapsed": true,
    "deletable": true,
    "editable": true
   },
   "outputs": [],
   "source": [
    "sess.close()"
   ]
  }
 ],
 "metadata": {
  "kernelspec": {
   "display_name": "Python 3",
   "language": "python",
   "name": "python3"
  },
  "language_info": {
   "codemirror_mode": {
    "name": "ipython",
    "version": 3
   },
   "file_extension": ".py",
   "mimetype": "text/x-python",
   "name": "python",
   "nbconvert_exporter": "python",
   "pygments_lexer": "ipython3",
   "version": "3.6.1"
  }
 },
 "nbformat": 4,
 "nbformat_minor": 2
}
